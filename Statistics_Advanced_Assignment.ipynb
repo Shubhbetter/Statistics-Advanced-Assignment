{
  "cells": [
    {
      "cell_type": "markdown",
      "metadata": {
        "id": "view-in-github",
        "colab_type": "text"
      },
      "source": [
        "<a href=\"https://colab.research.google.com/github/Shubhbetter/Statistics-Advanced-Assignment/blob/main/Statistics_Advanced_Assignment.ipynb\" target=\"_parent\"><img src=\"https://colab.research.google.com/assets/colab-badge.svg\" alt=\"Open In Colab\"/></a>"
      ]
    },
    {
      "cell_type": "markdown",
      "source": [
        "<a id='1'></a><center> <h3 style=\"background-color:orange; color:white\" ><br>Telecommunication Industry Project<br></h3>"
      ],
      "metadata": {
        "id": "QvtD0SxEOPGe"
      }
    },
    {
      "cell_type": "markdown",
      "source": [
        "# Introduction\n",
        "This Google Colab is part of your learning experience in the study of applied statistics.\n",
        "\n",
        "You will work with a data set that contains mobile phone prices and their specifications.\n",
        "\n",
        "**Dataset Columns Information**\n",
        "\n",
        "PID = a unique identifier for the phone model\n",
        "\n",
        "Blue = whether the phone has bluetooth support or not\n",
        "\n",
        "Wi_Fi = whether the phone has wifi support or not\n",
        "\n",
        "Tch_Scr = whether the phone has touch screen support or not\n",
        "\n",
        "Ext_Mem = whether the phone has external memory support or not\n",
        "\n",
        "Px_h = number of pixels in the vertical axis of the phone\n",
        "\n",
        "Px_w = number of pixels in the horizontal axis of the phone\n",
        "\n",
        "Scr_h = height of the screen of the phone in centimetres (cm)\n",
        "\n",
        "Scr_w = width of the screen of the phone in centimetres (cm)\n",
        "\n",
        "Int_Mem = internal memory of the phone measured in megabytes (MB)\n",
        "\n",
        "Bty_Pwr = maximum energy stored by the phone's battery measured in\n",
        "milli-Ampere-hours (mAh)\n",
        "\n",
        "PC = resolution of the primary camera measued in megapixels (MP)\n",
        "\n",
        "FC = resolution of the front camera measued in megapixels (MP)\n",
        "\n",
        "RAM = random access memory available in the phone measured in gigabytes (GB)\n",
        "\n",
        "Depth = depth of the mobile phone measured in centimetres (cm)\n",
        "\n",
        "Weight = weight of the mobile phone measured in grams (g)\n",
        "\n",
        "Price = selling price of the mobile phone in rupees\n"
      ],
      "metadata": {
        "id": "_pzTIrVbOcFF"
      }
    },
    {
      "cell_type": "code",
      "execution_count": null,
      "metadata": {
        "id": "wEXybtFON854"
      },
      "outputs": [],
      "source": []
    },
    {
      "cell_type": "markdown",
      "source": [
        "## Task 1 - Load and study the data"
      ],
      "metadata": {
        "id": "YCLhIkwFO4Tj"
      }
    },
    {
      "cell_type": "markdown",
      "source": [
        "Import the libraries that will be used in this notebook"
      ],
      "metadata": {
        "id": "CBMdPgPUO89Y"
      }
    },
    {
      "cell_type": "code",
      "execution_count": 1,
      "metadata": {
        "id": "z9ZS2Tw2N857"
      },
      "outputs": [],
      "source": [
        "# Load \"numpy\" and \"pandas\" for manipulating numbers and data frames\n",
        "# Load \"matplotlib.pyplot\" and \"seaborn\" for data visualisation\n",
        "import pandas as pd\n",
        "import matplotlib.pyplot as plt\n",
        "import numpy as np\n",
        "import seaborn as sns\n"
      ]
    },
    {
      "cell_type": "markdown",
      "source": [
        "Load the csv file as pandas dataframe."
      ],
      "metadata": {
        "id": "7rdvm8PDPCgM"
      }
    },
    {
      "cell_type": "code",
      "execution_count": 2,
      "metadata": {
        "id": "7p5Rg_AkN858"
      },
      "outputs": [],
      "source": [
        "# Read in the \"Dataset\" file as a Pandas Data Frame\n",
        "data = pd.read_csv('/content/Telecom Dataset.csv')\n"
      ]
    },
    {
      "cell_type": "code",
      "execution_count": 3,
      "metadata": {
        "id": "WdfT3N-iN859",
        "colab": {
          "base_uri": "https://localhost:8080/",
          "height": 206
        },
        "outputId": "d60e8aa1-4d91-4772-e27f-6ddfd8ab9d9c"
      },
      "outputs": [
        {
          "output_type": "execute_result",
          "data": {
            "text/plain": [
              "       PID Blue Wi_Fi Tch_Scr Ext_Mem  Px_h  Px_w  Scr_h  Scr_w  PC  FC  \\\n",
              "0  AAB346A  yes   yes      no      no   780   460      3      1   2   2   \n",
              "1  AAC347I  yes   yes      no      no   780   560      2      1   4   2   \n",
              "2  BAB657J   no   yes      no      no   840   720      2      1   4   2   \n",
              "3  BBD456K   no   yes     yes      no  1280  1120      5      3   6   2   \n",
              "4  CCP761U   no   yes     yes      no  1280  1080      4      3   6   2   \n",
              "\n",
              "   Int_Mem  Bty_Pwr  RAM  Depth  Weight  Price  \n",
              "0        8     2800    2      7     320   3297  \n",
              "1        8     3000    2      7     280   4500  \n",
              "2        8     3300    2      7     400   4898  \n",
              "3       32     3000    2      3     300   6900  \n",
              "4       16     3000    2      3     210   5600  "
            ],
            "text/html": [
              "\n",
              "  <div id=\"df-a8ca7da3-3b6b-4a49-9a25-95b54a633968\" class=\"colab-df-container\">\n",
              "    <div>\n",
              "<style scoped>\n",
              "    .dataframe tbody tr th:only-of-type {\n",
              "        vertical-align: middle;\n",
              "    }\n",
              "\n",
              "    .dataframe tbody tr th {\n",
              "        vertical-align: top;\n",
              "    }\n",
              "\n",
              "    .dataframe thead th {\n",
              "        text-align: right;\n",
              "    }\n",
              "</style>\n",
              "<table border=\"1\" class=\"dataframe\">\n",
              "  <thead>\n",
              "    <tr style=\"text-align: right;\">\n",
              "      <th></th>\n",
              "      <th>PID</th>\n",
              "      <th>Blue</th>\n",
              "      <th>Wi_Fi</th>\n",
              "      <th>Tch_Scr</th>\n",
              "      <th>Ext_Mem</th>\n",
              "      <th>Px_h</th>\n",
              "      <th>Px_w</th>\n",
              "      <th>Scr_h</th>\n",
              "      <th>Scr_w</th>\n",
              "      <th>PC</th>\n",
              "      <th>FC</th>\n",
              "      <th>Int_Mem</th>\n",
              "      <th>Bty_Pwr</th>\n",
              "      <th>RAM</th>\n",
              "      <th>Depth</th>\n",
              "      <th>Weight</th>\n",
              "      <th>Price</th>\n",
              "    </tr>\n",
              "  </thead>\n",
              "  <tbody>\n",
              "    <tr>\n",
              "      <th>0</th>\n",
              "      <td>AAB346A</td>\n",
              "      <td>yes</td>\n",
              "      <td>yes</td>\n",
              "      <td>no</td>\n",
              "      <td>no</td>\n",
              "      <td>780</td>\n",
              "      <td>460</td>\n",
              "      <td>3</td>\n",
              "      <td>1</td>\n",
              "      <td>2</td>\n",
              "      <td>2</td>\n",
              "      <td>8</td>\n",
              "      <td>2800</td>\n",
              "      <td>2</td>\n",
              "      <td>7</td>\n",
              "      <td>320</td>\n",
              "      <td>3297</td>\n",
              "    </tr>\n",
              "    <tr>\n",
              "      <th>1</th>\n",
              "      <td>AAC347I</td>\n",
              "      <td>yes</td>\n",
              "      <td>yes</td>\n",
              "      <td>no</td>\n",
              "      <td>no</td>\n",
              "      <td>780</td>\n",
              "      <td>560</td>\n",
              "      <td>2</td>\n",
              "      <td>1</td>\n",
              "      <td>4</td>\n",
              "      <td>2</td>\n",
              "      <td>8</td>\n",
              "      <td>3000</td>\n",
              "      <td>2</td>\n",
              "      <td>7</td>\n",
              "      <td>280</td>\n",
              "      <td>4500</td>\n",
              "    </tr>\n",
              "    <tr>\n",
              "      <th>2</th>\n",
              "      <td>BAB657J</td>\n",
              "      <td>no</td>\n",
              "      <td>yes</td>\n",
              "      <td>no</td>\n",
              "      <td>no</td>\n",
              "      <td>840</td>\n",
              "      <td>720</td>\n",
              "      <td>2</td>\n",
              "      <td>1</td>\n",
              "      <td>4</td>\n",
              "      <td>2</td>\n",
              "      <td>8</td>\n",
              "      <td>3300</td>\n",
              "      <td>2</td>\n",
              "      <td>7</td>\n",
              "      <td>400</td>\n",
              "      <td>4898</td>\n",
              "    </tr>\n",
              "    <tr>\n",
              "      <th>3</th>\n",
              "      <td>BBD456K</td>\n",
              "      <td>no</td>\n",
              "      <td>yes</td>\n",
              "      <td>yes</td>\n",
              "      <td>no</td>\n",
              "      <td>1280</td>\n",
              "      <td>1120</td>\n",
              "      <td>5</td>\n",
              "      <td>3</td>\n",
              "      <td>6</td>\n",
              "      <td>2</td>\n",
              "      <td>32</td>\n",
              "      <td>3000</td>\n",
              "      <td>2</td>\n",
              "      <td>3</td>\n",
              "      <td>300</td>\n",
              "      <td>6900</td>\n",
              "    </tr>\n",
              "    <tr>\n",
              "      <th>4</th>\n",
              "      <td>CCP761U</td>\n",
              "      <td>no</td>\n",
              "      <td>yes</td>\n",
              "      <td>yes</td>\n",
              "      <td>no</td>\n",
              "      <td>1280</td>\n",
              "      <td>1080</td>\n",
              "      <td>4</td>\n",
              "      <td>3</td>\n",
              "      <td>6</td>\n",
              "      <td>2</td>\n",
              "      <td>16</td>\n",
              "      <td>3000</td>\n",
              "      <td>2</td>\n",
              "      <td>3</td>\n",
              "      <td>210</td>\n",
              "      <td>5600</td>\n",
              "    </tr>\n",
              "  </tbody>\n",
              "</table>\n",
              "</div>\n",
              "    <div class=\"colab-df-buttons\">\n",
              "\n",
              "  <div class=\"colab-df-container\">\n",
              "    <button class=\"colab-df-convert\" onclick=\"convertToInteractive('df-a8ca7da3-3b6b-4a49-9a25-95b54a633968')\"\n",
              "            title=\"Convert this dataframe to an interactive table.\"\n",
              "            style=\"display:none;\">\n",
              "\n",
              "  <svg xmlns=\"http://www.w3.org/2000/svg\" height=\"24px\" viewBox=\"0 -960 960 960\">\n",
              "    <path d=\"M120-120v-720h720v720H120Zm60-500h600v-160H180v160Zm220 220h160v-160H400v160Zm0 220h160v-160H400v160ZM180-400h160v-160H180v160Zm440 0h160v-160H620v160ZM180-180h160v-160H180v160Zm440 0h160v-160H620v160Z\"/>\n",
              "  </svg>\n",
              "    </button>\n",
              "\n",
              "  <style>\n",
              "    .colab-df-container {\n",
              "      display:flex;\n",
              "      gap: 12px;\n",
              "    }\n",
              "\n",
              "    .colab-df-convert {\n",
              "      background-color: #E8F0FE;\n",
              "      border: none;\n",
              "      border-radius: 50%;\n",
              "      cursor: pointer;\n",
              "      display: none;\n",
              "      fill: #1967D2;\n",
              "      height: 32px;\n",
              "      padding: 0 0 0 0;\n",
              "      width: 32px;\n",
              "    }\n",
              "\n",
              "    .colab-df-convert:hover {\n",
              "      background-color: #E2EBFA;\n",
              "      box-shadow: 0px 1px 2px rgba(60, 64, 67, 0.3), 0px 1px 3px 1px rgba(60, 64, 67, 0.15);\n",
              "      fill: #174EA6;\n",
              "    }\n",
              "\n",
              "    .colab-df-buttons div {\n",
              "      margin-bottom: 4px;\n",
              "    }\n",
              "\n",
              "    [theme=dark] .colab-df-convert {\n",
              "      background-color: #3B4455;\n",
              "      fill: #D2E3FC;\n",
              "    }\n",
              "\n",
              "    [theme=dark] .colab-df-convert:hover {\n",
              "      background-color: #434B5C;\n",
              "      box-shadow: 0px 1px 3px 1px rgba(0, 0, 0, 0.15);\n",
              "      filter: drop-shadow(0px 1px 2px rgba(0, 0, 0, 0.3));\n",
              "      fill: #FFFFFF;\n",
              "    }\n",
              "  </style>\n",
              "\n",
              "    <script>\n",
              "      const buttonEl =\n",
              "        document.querySelector('#df-a8ca7da3-3b6b-4a49-9a25-95b54a633968 button.colab-df-convert');\n",
              "      buttonEl.style.display =\n",
              "        google.colab.kernel.accessAllowed ? 'block' : 'none';\n",
              "\n",
              "      async function convertToInteractive(key) {\n",
              "        const element = document.querySelector('#df-a8ca7da3-3b6b-4a49-9a25-95b54a633968');\n",
              "        const dataTable =\n",
              "          await google.colab.kernel.invokeFunction('convertToInteractive',\n",
              "                                                    [key], {});\n",
              "        if (!dataTable) return;\n",
              "\n",
              "        const docLinkHtml = 'Like what you see? Visit the ' +\n",
              "          '<a target=\"_blank\" href=https://colab.research.google.com/notebooks/data_table.ipynb>data table notebook</a>'\n",
              "          + ' to learn more about interactive tables.';\n",
              "        element.innerHTML = '';\n",
              "        dataTable['output_type'] = 'display_data';\n",
              "        await google.colab.output.renderOutput(dataTable, element);\n",
              "        const docLink = document.createElement('div');\n",
              "        docLink.innerHTML = docLinkHtml;\n",
              "        element.appendChild(docLink);\n",
              "      }\n",
              "    </script>\n",
              "  </div>\n",
              "\n",
              "\n",
              "<div id=\"df-eba5eaf6-129f-44a0-ad2a-12dd72c8866a\">\n",
              "  <button class=\"colab-df-quickchart\" onclick=\"quickchart('df-eba5eaf6-129f-44a0-ad2a-12dd72c8866a')\"\n",
              "            title=\"Suggest charts\"\n",
              "            style=\"display:none;\">\n",
              "\n",
              "<svg xmlns=\"http://www.w3.org/2000/svg\" height=\"24px\"viewBox=\"0 0 24 24\"\n",
              "     width=\"24px\">\n",
              "    <g>\n",
              "        <path d=\"M19 3H5c-1.1 0-2 .9-2 2v14c0 1.1.9 2 2 2h14c1.1 0 2-.9 2-2V5c0-1.1-.9-2-2-2zM9 17H7v-7h2v7zm4 0h-2V7h2v10zm4 0h-2v-4h2v4z\"/>\n",
              "    </g>\n",
              "</svg>\n",
              "  </button>\n",
              "\n",
              "<style>\n",
              "  .colab-df-quickchart {\n",
              "      --bg-color: #E8F0FE;\n",
              "      --fill-color: #1967D2;\n",
              "      --hover-bg-color: #E2EBFA;\n",
              "      --hover-fill-color: #174EA6;\n",
              "      --disabled-fill-color: #AAA;\n",
              "      --disabled-bg-color: #DDD;\n",
              "  }\n",
              "\n",
              "  [theme=dark] .colab-df-quickchart {\n",
              "      --bg-color: #3B4455;\n",
              "      --fill-color: #D2E3FC;\n",
              "      --hover-bg-color: #434B5C;\n",
              "      --hover-fill-color: #FFFFFF;\n",
              "      --disabled-bg-color: #3B4455;\n",
              "      --disabled-fill-color: #666;\n",
              "  }\n",
              "\n",
              "  .colab-df-quickchart {\n",
              "    background-color: var(--bg-color);\n",
              "    border: none;\n",
              "    border-radius: 50%;\n",
              "    cursor: pointer;\n",
              "    display: none;\n",
              "    fill: var(--fill-color);\n",
              "    height: 32px;\n",
              "    padding: 0;\n",
              "    width: 32px;\n",
              "  }\n",
              "\n",
              "  .colab-df-quickchart:hover {\n",
              "    background-color: var(--hover-bg-color);\n",
              "    box-shadow: 0 1px 2px rgba(60, 64, 67, 0.3), 0 1px 3px 1px rgba(60, 64, 67, 0.15);\n",
              "    fill: var(--button-hover-fill-color);\n",
              "  }\n",
              "\n",
              "  .colab-df-quickchart-complete:disabled,\n",
              "  .colab-df-quickchart-complete:disabled:hover {\n",
              "    background-color: var(--disabled-bg-color);\n",
              "    fill: var(--disabled-fill-color);\n",
              "    box-shadow: none;\n",
              "  }\n",
              "\n",
              "  .colab-df-spinner {\n",
              "    border: 2px solid var(--fill-color);\n",
              "    border-color: transparent;\n",
              "    border-bottom-color: var(--fill-color);\n",
              "    animation:\n",
              "      spin 1s steps(1) infinite;\n",
              "  }\n",
              "\n",
              "  @keyframes spin {\n",
              "    0% {\n",
              "      border-color: transparent;\n",
              "      border-bottom-color: var(--fill-color);\n",
              "      border-left-color: var(--fill-color);\n",
              "    }\n",
              "    20% {\n",
              "      border-color: transparent;\n",
              "      border-left-color: var(--fill-color);\n",
              "      border-top-color: var(--fill-color);\n",
              "    }\n",
              "    30% {\n",
              "      border-color: transparent;\n",
              "      border-left-color: var(--fill-color);\n",
              "      border-top-color: var(--fill-color);\n",
              "      border-right-color: var(--fill-color);\n",
              "    }\n",
              "    40% {\n",
              "      border-color: transparent;\n",
              "      border-right-color: var(--fill-color);\n",
              "      border-top-color: var(--fill-color);\n",
              "    }\n",
              "    60% {\n",
              "      border-color: transparent;\n",
              "      border-right-color: var(--fill-color);\n",
              "    }\n",
              "    80% {\n",
              "      border-color: transparent;\n",
              "      border-right-color: var(--fill-color);\n",
              "      border-bottom-color: var(--fill-color);\n",
              "    }\n",
              "    90% {\n",
              "      border-color: transparent;\n",
              "      border-bottom-color: var(--fill-color);\n",
              "    }\n",
              "  }\n",
              "</style>\n",
              "\n",
              "  <script>\n",
              "    async function quickchart(key) {\n",
              "      const quickchartButtonEl =\n",
              "        document.querySelector('#' + key + ' button');\n",
              "      quickchartButtonEl.disabled = true;  // To prevent multiple clicks.\n",
              "      quickchartButtonEl.classList.add('colab-df-spinner');\n",
              "      try {\n",
              "        const charts = await google.colab.kernel.invokeFunction(\n",
              "            'suggestCharts', [key], {});\n",
              "      } catch (error) {\n",
              "        console.error('Error during call to suggestCharts:', error);\n",
              "      }\n",
              "      quickchartButtonEl.classList.remove('colab-df-spinner');\n",
              "      quickchartButtonEl.classList.add('colab-df-quickchart-complete');\n",
              "    }\n",
              "    (() => {\n",
              "      let quickchartButtonEl =\n",
              "        document.querySelector('#df-eba5eaf6-129f-44a0-ad2a-12dd72c8866a button');\n",
              "      quickchartButtonEl.style.display =\n",
              "        google.colab.kernel.accessAllowed ? 'block' : 'none';\n",
              "    })();\n",
              "  </script>\n",
              "</div>\n",
              "\n",
              "    </div>\n",
              "  </div>\n"
            ],
            "application/vnd.google.colaboratory.intrinsic+json": {
              "type": "dataframe",
              "variable_name": "data",
              "summary": "{\n  \"name\": \"data\",\n  \"rows\": 50,\n  \"fields\": [\n    {\n      \"column\": \"PID\",\n      \"properties\": {\n        \"dtype\": \"string\",\n        \"num_unique_values\": 50,\n        \"samples\": [\n          \"NAJ56GL\",\n          \"VYI666I\",\n          \"TVF078Y\"\n        ],\n        \"semantic_type\": \"\",\n        \"description\": \"\"\n      }\n    },\n    {\n      \"column\": \"Blue\",\n      \"properties\": {\n        \"dtype\": \"category\",\n        \"num_unique_values\": 2,\n        \"samples\": [\n          \"no\",\n          \"yes\"\n        ],\n        \"semantic_type\": \"\",\n        \"description\": \"\"\n      }\n    },\n    {\n      \"column\": \"Wi_Fi\",\n      \"properties\": {\n        \"dtype\": \"category\",\n        \"num_unique_values\": 2,\n        \"samples\": [\n          \"no\",\n          \"yes\"\n        ],\n        \"semantic_type\": \"\",\n        \"description\": \"\"\n      }\n    },\n    {\n      \"column\": \"Tch_Scr\",\n      \"properties\": {\n        \"dtype\": \"category\",\n        \"num_unique_values\": 2,\n        \"samples\": [\n          \"yes\",\n          \"no\"\n        ],\n        \"semantic_type\": \"\",\n        \"description\": \"\"\n      }\n    },\n    {\n      \"column\": \"Ext_Mem\",\n      \"properties\": {\n        \"dtype\": \"category\",\n        \"num_unique_values\": 2,\n        \"samples\": [\n          \"yes\",\n          \"no\"\n        ],\n        \"semantic_type\": \"\",\n        \"description\": \"\"\n      }\n    },\n    {\n      \"column\": \"Px_h\",\n      \"properties\": {\n        \"dtype\": \"number\",\n        \"std\": 598,\n        \"min\": 780,\n        \"max\": 2880,\n        \"num_unique_values\": 10,\n        \"samples\": [\n          1440,\n          840\n        ],\n        \"semantic_type\": \"\",\n        \"description\": \"\"\n      }\n    },\n    {\n      \"column\": \"Px_w\",\n      \"properties\": {\n        \"dtype\": \"number\",\n        \"std\": 469,\n        \"min\": 460,\n        \"max\": 2520,\n        \"num_unique_values\": 12,\n        \"samples\": [\n          1280,\n          1760\n        ],\n        \"semantic_type\": \"\",\n        \"description\": \"\"\n      }\n    },\n    {\n      \"column\": \"Scr_h\",\n      \"properties\": {\n        \"dtype\": \"number\",\n        \"std\": 2,\n        \"min\": 2,\n        \"max\": 10,\n        \"num_unique_values\": 7,\n        \"samples\": [\n          3,\n          2\n        ],\n        \"semantic_type\": \"\",\n        \"description\": \"\"\n      }\n    },\n    {\n      \"column\": \"Scr_w\",\n      \"properties\": {\n        \"dtype\": \"number\",\n        \"std\": 1,\n        \"min\": 1,\n        \"max\": 8,\n        \"num_unique_values\": 6,\n        \"samples\": [\n          1,\n          3\n        ],\n        \"semantic_type\": \"\",\n        \"description\": \"\"\n      }\n    },\n    {\n      \"column\": \"PC\",\n      \"properties\": {\n        \"dtype\": \"number\",\n        \"std\": 30,\n        \"min\": 2,\n        \"max\": 128,\n        \"num_unique_values\": 11,\n        \"samples\": [\n          32,\n          2\n        ],\n        \"semantic_type\": \"\",\n        \"description\": \"\"\n      }\n    },\n    {\n      \"column\": \"FC\",\n      \"properties\": {\n        \"dtype\": \"number\",\n        \"std\": 14,\n        \"min\": 2,\n        \"max\": 64,\n        \"num_unique_values\": 7,\n        \"samples\": [\n          2,\n          4\n        ],\n        \"semantic_type\": \"\",\n        \"description\": \"\"\n      }\n    },\n    {\n      \"column\": \"Int_Mem\",\n      \"properties\": {\n        \"dtype\": \"number\",\n        \"std\": 261,\n        \"min\": 8,\n        \"max\": 1024,\n        \"num_unique_values\": 8,\n        \"samples\": [\n          32,\n          512\n        ],\n        \"semantic_type\": \"\",\n        \"description\": \"\"\n      }\n    },\n    {\n      \"column\": \"Bty_Pwr\",\n      \"properties\": {\n        \"dtype\": \"number\",\n        \"std\": 958,\n        \"min\": 2300,\n        \"max\": 5600,\n        \"num_unique_values\": 19,\n        \"samples\": [\n          2800,\n          4380\n        ],\n        \"semantic_type\": \"\",\n        \"description\": \"\"\n      }\n    },\n    {\n      \"column\": \"RAM\",\n      \"properties\": {\n        \"dtype\": \"number\",\n        \"std\": 2,\n        \"min\": 2,\n        \"max\": 12,\n        \"num_unique_values\": 5,\n        \"samples\": [\n          6,\n          12\n        ],\n        \"semantic_type\": \"\",\n        \"description\": \"\"\n      }\n    },\n    {\n      \"column\": \"Depth\",\n      \"properties\": {\n        \"dtype\": \"number\",\n        \"std\": 1,\n        \"min\": 2,\n        \"max\": 7,\n        \"num_unique_values\": 4,\n        \"samples\": [\n          3,\n          2\n        ],\n        \"semantic_type\": \"\",\n        \"description\": \"\"\n      }\n    },\n    {\n      \"column\": \"Weight\",\n      \"properties\": {\n        \"dtype\": \"number\",\n        \"std\": 75,\n        \"min\": 80,\n        \"max\": 400,\n        \"num_unique_values\": 25,\n        \"samples\": [\n          120,\n          170\n        ],\n        \"semantic_type\": \"\",\n        \"description\": \"\"\n      }\n    },\n    {\n      \"column\": \"Price\",\n      \"properties\": {\n        \"dtype\": \"number\",\n        \"std\": 25037,\n        \"min\": 3297,\n        \"max\": 149000,\n        \"num_unique_values\": 49,\n        \"samples\": [\n          23600,\n          56000\n        ],\n        \"semantic_type\": \"\",\n        \"description\": \"\"\n      }\n    }\n  ]\n}"
            }
          },
          "metadata": {},
          "execution_count": 3
        }
      ],
      "source": [
        "# Take a brief look at the data\n",
        "data.head()"
      ]
    },
    {
      "cell_type": "code",
      "execution_count": 4,
      "metadata": {
        "id": "0jdoVTnIN85_",
        "colab": {
          "base_uri": "https://localhost:8080/"
        },
        "outputId": "a0408cf4-524f-450a-c733-a61479e49a2f"
      },
      "outputs": [
        {
          "output_type": "execute_result",
          "data": {
            "text/plain": [
              "(50, 17)"
            ]
          },
          "metadata": {},
          "execution_count": 4
        }
      ],
      "source": [
        "# Get the dimensions of the dataframe\n",
        "data.shape\n"
      ]
    },
    {
      "cell_type": "code",
      "execution_count": 5,
      "metadata": {
        "id": "y28qZAzdN86B",
        "colab": {
          "base_uri": "https://localhost:8080/"
        },
        "outputId": "c5a9b1a9-7f3b-4090-e31c-efa1b8cd66e0"
      },
      "outputs": [
        {
          "output_type": "execute_result",
          "data": {
            "text/plain": [
              "RangeIndex(start=0, stop=50, step=1)"
            ]
          },
          "metadata": {},
          "execution_count": 5
        }
      ],
      "source": [
        "# Get the row names of the dataframe\n",
        "data.index\n"
      ]
    },
    {
      "cell_type": "code",
      "execution_count": 6,
      "metadata": {
        "id": "u3wUbIm7N86C",
        "colab": {
          "base_uri": "https://localhost:8080/"
        },
        "outputId": "e24db1c6-a8fc-4129-d7d3-d559136d0017"
      },
      "outputs": [
        {
          "output_type": "execute_result",
          "data": {
            "text/plain": [
              "Index(['PID', 'Blue', 'Wi_Fi', 'Tch_Scr', 'Ext_Mem', 'Px_h', 'Px_w', 'Scr_h',\n",
              "       'Scr_w', 'PC', 'FC', 'Int_Mem', 'Bty_Pwr', 'RAM', 'Depth', 'Weight',\n",
              "       'Price'],\n",
              "      dtype='object')"
            ]
          },
          "metadata": {},
          "execution_count": 6
        }
      ],
      "source": [
        "# Get the column names of the dataframe\n",
        "data.columns\n"
      ]
    },
    {
      "cell_type": "code",
      "execution_count": 7,
      "metadata": {
        "id": "zoJdOWbKN86D",
        "colab": {
          "base_uri": "https://localhost:8080/"
        },
        "outputId": "0a3b8f91-2d9c-44bd-f973-9b43f41020f1"
      },
      "outputs": [
        {
          "output_type": "stream",
          "name": "stdout",
          "text": [
            "<class 'pandas.core.frame.DataFrame'>\n",
            "RangeIndex: 50 entries, 0 to 49\n",
            "Data columns (total 17 columns):\n",
            " #   Column   Non-Null Count  Dtype \n",
            "---  ------   --------------  ----- \n",
            " 0   PID      50 non-null     object\n",
            " 1   Blue     50 non-null     object\n",
            " 2   Wi_Fi    50 non-null     object\n",
            " 3   Tch_Scr  50 non-null     object\n",
            " 4   Ext_Mem  50 non-null     object\n",
            " 5   Px_h     50 non-null     int64 \n",
            " 6   Px_w     50 non-null     int64 \n",
            " 7   Scr_h    50 non-null     int64 \n",
            " 8   Scr_w    50 non-null     int64 \n",
            " 9   PC       50 non-null     int64 \n",
            " 10  FC       50 non-null     int64 \n",
            " 11  Int_Mem  50 non-null     int64 \n",
            " 12  Bty_Pwr  50 non-null     int64 \n",
            " 13  RAM      50 non-null     int64 \n",
            " 14  Depth    50 non-null     int64 \n",
            " 15  Weight   50 non-null     int64 \n",
            " 16  Price    50 non-null     int64 \n",
            "dtypes: int64(12), object(5)\n",
            "memory usage: 6.8+ KB\n"
          ]
        }
      ],
      "source": [
        "# Look at basic information about the dataframe\n",
        "data.info()\n"
      ]
    },
    {
      "cell_type": "markdown",
      "source": [
        "Observations:\n",
        "\n",
        "There are 50 phones in the data set.\n",
        "\n",
        "There are 17 features in the data set including the \"PID\" feature which is used as the row index labels.\n",
        "\n",
        "There are no missing values in the data set."
      ],
      "metadata": {
        "id": "Yp1sfFKKQQLR"
      }
    },
    {
      "cell_type": "code",
      "execution_count": null,
      "metadata": {
        "id": "F7O4y4kyN86F"
      },
      "outputs": [],
      "source": []
    },
    {
      "cell_type": "markdown",
      "source": [
        "<center>Let's try some logical operators to filter the data.<center>"
      ],
      "metadata": {
        "id": "K6wSkK61E57v"
      }
    },
    {
      "cell_type": "markdown",
      "source": [
        "![](https://th.bing.com/th/id/R.0592084daa6518e4fae97f47217ec69e?rik=vNqmiaTVSSo54w&riu=http%3a%2f%2f2.bp.blogspot.com%2f-ujABms6N-Cg%2fTyYwShdTjnI%2fAAAAAAAAAAs%2fktPbHdifidc%2fs1600%2fLogical%2bOperators.PNG&ehk=ww1gl1HB2PcZwPQNHWRUvcQ631Q3mzyHSxL9G4zUKT4%3d&risl=&pid=ImgRaw&r=0,width=700,height=400)"
      ],
      "metadata": {
        "id": "Fjx3ajuFFN5H"
      }
    },
    {
      "cell_type": "markdown",
      "source": [
        "## Task 2 - Obtain the logical conditions for the features \"Blue\", \"Wi_Fi\", \"Tch_Scr\" and \"Ext_Mem\""
      ],
      "metadata": {
        "id": "zBarC8WVQZG7"
      }
    },
    {
      "cell_type": "code",
      "execution_count": 8,
      "metadata": {
        "id": "RAV76P19N86G",
        "colab": {
          "base_uri": "https://localhost:8080/"
        },
        "outputId": "546e6e1e-b129-406f-bee2-0524b2a254ac"
      },
      "outputs": [
        {
          "output_type": "execute_result",
          "data": {
            "text/plain": [
              "Index(['PID', 'Blue', 'Wi_Fi', 'Tch_Scr', 'Ext_Mem', 'Px_h', 'Px_w', 'Scr_h',\n",
              "       'Scr_w', 'PC', 'FC', 'Int_Mem', 'Bty_Pwr', 'RAM', 'Depth', 'Weight',\n",
              "       'Price'],\n",
              "      dtype='object')"
            ]
          },
          "metadata": {},
          "execution_count": 8
        }
      ],
      "source": [
        "# Get the feature names of the dataframe\n",
        "data.columns\n"
      ]
    },
    {
      "cell_type": "code",
      "execution_count": null,
      "metadata": {
        "id": "4qnHqu_vN86H"
      },
      "outputs": [],
      "source": [
        "# Let's tackle these features: \"Blue\", \"Wi_Fi\", \"Tch_Scr\", \"Ext_Mem\""
      ]
    },
    {
      "cell_type": "code",
      "execution_count": 15,
      "metadata": {
        "id": "8N-jff5hN86I",
        "colab": {
          "base_uri": "https://localhost:8080/"
        },
        "outputId": "63f035fc-f697-4400-f860-943b73fffde9"
      },
      "outputs": [
        {
          "output_type": "stream",
          "name": "stdout",
          "text": [
            "0     False\n",
            "1     False\n",
            "2     False\n",
            "3     False\n",
            "4     False\n",
            "5     False\n",
            "6     False\n",
            "7     False\n",
            "8      True\n",
            "9      True\n",
            "10     True\n",
            "11     True\n",
            "12    False\n",
            "13    False\n",
            "14     True\n",
            "15    False\n",
            "16    False\n",
            "17    False\n",
            "18    False\n",
            "19    False\n",
            "20    False\n",
            "21    False\n",
            "22    False\n",
            "23    False\n",
            "24    False\n",
            "25    False\n",
            "26    False\n",
            "27     True\n",
            "28     True\n",
            "29    False\n",
            "30     True\n",
            "31    False\n",
            "32     True\n",
            "33    False\n",
            "34     True\n",
            "35    False\n",
            "36     True\n",
            "37     True\n",
            "38     True\n",
            "39     True\n",
            "40     True\n",
            "41     True\n",
            "42     True\n",
            "43    False\n",
            "44     True\n",
            "45    False\n",
            "46     True\n",
            "47    False\n",
            "48    False\n",
            "49    False\n",
            "dtype: bool\n"
          ]
        }
      ],
      "source": [
        "# The children want phones that have the following: Bluetooth, WiFi, touch screen and external memory support\n",
        "# Create a logical condition for this situation and store the logical values as \"con1\"\n",
        "con1 = (data['Blue'] == 'yes') & (data['Wi_Fi'] == 'yes') & (data['Tch_Scr'] == 'yes') & (data['Ext_Mem'] == 'yes')\n",
        "print(con1)\n"
      ]
    },
    {
      "cell_type": "markdown",
      "source": [
        "Observations:\n",
        "\n",
        "The features \"Blue\", \"Wi_Fi\", \"Tch_Scr\" and \"Ext_Mem\" are binary in nature.\n",
        "\n",
        "The children want all these features, so the logical condition \"con1\" has been obtained accordingly."
      ],
      "metadata": {
        "id": "KilesitnQjMF"
      }
    },
    {
      "cell_type": "markdown",
      "source": [
        "## Task 3 - Obtain the logical conditions for the features \"Px_h\" and \"Px_w\""
      ],
      "metadata": {
        "id": "n8qZScOZQsj3"
      }
    },
    {
      "cell_type": "code",
      "execution_count": 16,
      "metadata": {
        "id": "UgpsX9ZYN86M",
        "colab": {
          "base_uri": "https://localhost:8080/"
        },
        "outputId": "61c2f5a0-a788-4231-cb35-28bac6d416af"
      },
      "outputs": [
        {
          "output_type": "execute_result",
          "data": {
            "text/plain": [
              "Index(['PID', 'Blue', 'Wi_Fi', 'Tch_Scr', 'Ext_Mem', 'Px_h', 'Px_w', 'Scr_h',\n",
              "       'Scr_w', 'PC', 'FC', 'Int_Mem', 'Bty_Pwr', 'RAM', 'Depth', 'Weight',\n",
              "       'Price'],\n",
              "      dtype='object')"
            ]
          },
          "metadata": {},
          "execution_count": 16
        }
      ],
      "source": [
        "# Get the feature names of the dataframe\n",
        "data.columns\n"
      ]
    },
    {
      "cell_type": "code",
      "execution_count": null,
      "metadata": {
        "id": "HvY0q-JeN86N"
      },
      "outputs": [],
      "source": [
        "# Let's tackle these features: \"Px_h\", \"Px_w\""
      ]
    },
    {
      "cell_type": "code",
      "execution_count": 17,
      "metadata": {
        "id": "9g8VvPLiN86O",
        "colab": {
          "base_uri": "https://localhost:8080/"
        },
        "outputId": "a98e0a13-bca4-4e93-ce30-dc9d8d9fe6c4"
      },
      "outputs": [
        {
          "output_type": "stream",
          "name": "stdout",
          "text": [
            "0      358800\n",
            "1      436800\n",
            "2      604800\n",
            "3     1433600\n",
            "4     1382400\n",
            "5     1382400\n",
            "6     1501200\n",
            "7     6105600\n",
            "8     4953600\n",
            "9     5108400\n",
            "10    4953600\n",
            "11    4953600\n",
            "12    5108400\n",
            "13    6105600\n",
            "14    4331600\n",
            "15    3484800\n",
            "16    5108400\n",
            "17    6105600\n",
            "18    3484800\n",
            "19    6105600\n",
            "20    3484800\n",
            "21    5108400\n",
            "22    1843200\n",
            "23    6105600\n",
            "24    1843200\n",
            "25    5108400\n",
            "26    2534400\n",
            "27    5469600\n",
            "28    5469600\n",
            "29    5469600\n",
            "30    5469600\n",
            "31    5469600\n",
            "32    5469600\n",
            "33    5469600\n",
            "34    6105600\n",
            "35    5172800\n",
            "36    5108400\n",
            "37    4831200\n",
            "38    4953600\n",
            "39    4831200\n",
            "40    5108400\n",
            "41    5108400\n",
            "42    5108400\n",
            "43    5108400\n",
            "44    5108400\n",
            "45    5108400\n",
            "46    5108400\n",
            "47    7257600\n",
            "48    7257600\n",
            "49    7257600\n",
            "dtype: int64\n"
          ]
        }
      ],
      "source": [
        "# Create a new feature called \"Px\" which stores the total resolution of the screen\n",
        "px = data['Px_h'] * data['Px_w']\n",
        "print(px)\n"
      ]
    },
    {
      "cell_type": "code",
      "execution_count": 25,
      "metadata": {
        "id": "nbYsIHpjN86P",
        "colab": {
          "base_uri": "https://localhost:8080/",
          "height": 472
        },
        "outputId": "0b8bce04-c9c7-4132-95c1-05a44004120e"
      },
      "outputs": [
        {
          "output_type": "display_data",
          "data": {
            "text/plain": [
              "<Figure size 640x480 with 1 Axes>"
            ],
            "image/png": "[encoded data removed]"
          },
          "metadata": {}
        }
      ],
      "source": [
        "# Create a histogram of the \"Px\" feature and also show the mean and the median\n",
        "plt.hist(px)\n",
        "plt.xlabel('Total Pixels')\n",
        "plt.ylabel('Frequency')\n",
        "plt.title('Distribution of the total pixels')\n",
        "\n",
        "# Calculate mean and mediean\n",
        "mean_px = px.mean()\n",
        "median_px = px.median()\n",
        "\n",
        "# Add vertical lines for mean and median\n",
        "plt.axvline(mean_px, color = 'r', linestyle = 'dashed', linewidth = 2, label = 'Mean')\n",
        "plt.axvline(median_px, color = 'y', linestyle = 'dashed', linewidth = 2, label = 'Median')\n",
        "\n",
        "# Display legend and plot\n",
        "plt.legend()\n",
        "plt.show()\n",
        "\n"
      ]
    },
    {
      "cell_type": "code",
      "execution_count": 26,
      "metadata": {
        "id": "SxaYgagyN86Q",
        "colab": {
          "base_uri": "https://localhost:8080/"
        },
        "outputId": "580fdec9-47e8-4acb-d879-85fd50a0fded"
      },
      "outputs": [
        {
          "output_type": "stream",
          "name": "stdout",
          "text": [
            "0     False\n",
            "1     False\n",
            "2     False\n",
            "3     False\n",
            "4     False\n",
            "5     False\n",
            "6     False\n",
            "7      True\n",
            "8     False\n",
            "9      True\n",
            "10    False\n",
            "11    False\n",
            "12     True\n",
            "13     True\n",
            "14    False\n",
            "15    False\n",
            "16     True\n",
            "17     True\n",
            "18    False\n",
            "19     True\n",
            "20    False\n",
            "21     True\n",
            "22    False\n",
            "23     True\n",
            "24    False\n",
            "25     True\n",
            "26    False\n",
            "27     True\n",
            "28     True\n",
            "29     True\n",
            "30     True\n",
            "31     True\n",
            "32     True\n",
            "33     True\n",
            "34     True\n",
            "35     True\n",
            "36     True\n",
            "37     True\n",
            "38    False\n",
            "39     True\n",
            "40     True\n",
            "41     True\n",
            "42     True\n",
            "43     True\n",
            "44     True\n",
            "45     True\n",
            "46     True\n",
            "47     True\n",
            "48     True\n",
            "49     True\n",
            "dtype: bool\n"
          ]
        }
      ],
      "source": [
        "# The children want phones that have good screen resolutions\n",
        "# Consider the phones that have screen resolutions greater than or equal to the median value in the data set\n",
        "# Create a logical condition for this situation and store the logical values as \"con2\"\n",
        "\n",
        "# Calculate median screen resolution\n",
        "median_resolution = data['Px_h'] * data['Px_w'].median()\n",
        "\n",
        "# Create a logical condition for phones with screen resolution greater then or equal to the median\n",
        "con_2 = (data['Px_h'] * data['Px_w']) >= median_resolution\n",
        "print(con_2)\n"
      ]
    },
    {
      "cell_type": "markdown",
      "source": [
        "Observations:\n",
        "\n",
        "The features \"Px_h\" and \"Px_w\" are respectively the number of pixels in the phone screen in the vertical and horizontal axes.\n",
        "\n",
        "We created a new feature called \"Px\" which is the product of the features \"Px_h\" and \"Px_w\".\n",
        "\n",
        "The median has been selected as a threshold in this case.\n",
        "\n",
        "In case it is too strict, we can choose the mean as a threshold."
      ],
      "metadata": {
        "id": "M-DC9VY2RBZQ"
      }
    },
    {
      "cell_type": "markdown",
      "source": [
        "# Task 4 - Obtain the logical conditions for the features \"Scr_h\" and \"Scr_w\""
      ],
      "metadata": {
        "id": "ih3ev8-0RJg5"
      }
    },
    {
      "cell_type": "code",
      "execution_count": null,
      "metadata": {
        "id": "EsEcEKKTN86T"
      },
      "outputs": [],
      "source": [
        "# Let's tackle these features: \"Scr_h\", \"Scr_w\""
      ]
    },
    {
      "cell_type": "code",
      "execution_count": 27,
      "metadata": {
        "id": "qTOcx3FCN86U",
        "colab": {
          "base_uri": "https://localhost:8080/"
        },
        "outputId": "0ebd496f-7c66-4d64-cde4-fc6f38f73508"
      },
      "outputs": [
        {
          "output_type": "stream",
          "name": "stdout",
          "text": [
            "0      905.538514\n",
            "1      960.208311\n",
            "2     1106.345335\n",
            "3     1700.823330\n",
            "4     1674.753713\n",
            "5     1674.753713\n",
            "6     1760.255663\n",
            "7     3576.143174\n",
            "8     3216.022388\n",
            "9     3252.199256\n",
            "10    3216.022388\n",
            "11    3216.022388\n",
            "12    3252.199256\n",
            "13    3576.143174\n",
            "14    2996.130838\n",
            "15    2649.150807\n",
            "16    3252.199256\n",
            "17    3576.143174\n",
            "18    2649.150807\n",
            "19    3576.143174\n",
            "20    2649.150807\n",
            "21    3252.199256\n",
            "22    1926.655133\n",
            "23    3576.143174\n",
            "24    1926.655133\n",
            "25    3252.199256\n",
            "26    2357.710754\n",
            "27    3339.281360\n",
            "28    3339.281360\n",
            "29    3339.281360\n",
            "30    3339.281360\n",
            "31    3339.281360\n",
            "32    3339.281360\n",
            "33    3339.281360\n",
            "34    3576.143174\n",
            "35    3232.336616\n",
            "36    3252.199256\n",
            "37    3142.292157\n",
            "38    3216.022388\n",
            "39    3142.292157\n",
            "40    3252.199256\n",
            "41    3252.199256\n",
            "42    3252.199256\n",
            "43    3252.199256\n",
            "44    3252.199256\n",
            "45    3252.199256\n",
            "46    3252.199256\n",
            "47    3826.852493\n",
            "48    3826.852493\n",
            "49    3826.852493\n",
            "Name: Scr_d, dtype: float64\n"
          ]
        }
      ],
      "source": [
        "# Create a new feature called \"Scr_d\" which stores the length of the diagonal of the screen of the phone\n",
        "data['Scr_d'] = np.sqrt(data['Px_h']**2 + data['Px_w']**2)\n",
        "print(data['Scr_d'])\n",
        "\n"
      ]
    },
    {
      "cell_type": "code",
      "execution_count": 28,
      "metadata": {
        "id": "83gzdEN7N86U",
        "colab": {
          "base_uri": "https://localhost:8080/",
          "height": 472
        },
        "outputId": "d27d598e-66d4-4122-e5ae-66d64409f634"
      },
      "outputs": [
        {
          "output_type": "display_data",
          "data": {
            "text/plain": [
              "<Figure size 640x480 with 1 Axes>"
            ],
            "image/png": "[encoded data removed]"
          },
          "metadata": {}
        }
      ],
      "source": [
        "# Create a histogram of the \"Scr_d\" feature and also show the quartiles\n",
        "\n",
        "# Create a histogram of the \"Scr_d\" feature\n",
        "plt.hist(data['Scr_d'])\n",
        "plt.xlabel('Screen Diagonal Length')\n",
        "plt.ylabel('Frequency')\n",
        "plt.title('Distribution of Screen Diagonal Lengths')\n",
        "\n",
        "#Calculate and display quartiles\n",
        "q1 = data['Scr_d'].quantile(0.25)\n",
        "q2 = data['Scr_d'].quantile(0.5)\n",
        "q3 = data['Scr_d'].quantile(0.75)\n",
        "\n",
        "plt.axvline(q1, color = 'r', linestyle = 'dashed', linewidth = 2, label = 'Q1')\n",
        "plt.axvline(q2, color = 'g', linestyle = 'dashed', linewidth = 2, label = 'Q2')\n",
        "plt.axvline(q3, color = 'b', linestyle = 'dashed', linewidth = 2, label = 'Q3')\n",
        "\n",
        "# Display legend and plot\n",
        "plt.legend()\n",
        "plt.show()\n"
      ]
    },
    {
      "cell_type": "code",
      "execution_count": 29,
      "metadata": {
        "id": "aEvL_TPSN86V",
        "colab": {
          "base_uri": "https://localhost:8080/"
        },
        "outputId": "0243a51c-5a4f-4a5f-9ac4-39fcef0600ad"
      },
      "outputs": [
        {
          "output_type": "stream",
          "name": "stdout",
          "text": [
            "0     False\n",
            "1     False\n",
            "2     False\n",
            "3     False\n",
            "4     False\n",
            "5     False\n",
            "6     False\n",
            "7      True\n",
            "8     False\n",
            "9     False\n",
            "10    False\n",
            "11    False\n",
            "12    False\n",
            "13     True\n",
            "14    False\n",
            "15    False\n",
            "16    False\n",
            "17     True\n",
            "18    False\n",
            "19     True\n",
            "20    False\n",
            "21    False\n",
            "22    False\n",
            "23     True\n",
            "24    False\n",
            "25    False\n",
            "26    False\n",
            "27     True\n",
            "28     True\n",
            "29     True\n",
            "30     True\n",
            "31     True\n",
            "32     True\n",
            "33     True\n",
            "34     True\n",
            "35    False\n",
            "36    False\n",
            "37    False\n",
            "38    False\n",
            "39    False\n",
            "40    False\n",
            "41    False\n",
            "42    False\n",
            "43    False\n",
            "44    False\n",
            "45    False\n",
            "46    False\n",
            "47     True\n",
            "48     True\n",
            "49     True\n",
            "Name: Scr_d, dtype: bool\n"
          ]
        }
      ],
      "source": [
        "# The children want phones that have very good screen sizes\n",
        "# Consider the phones that have screen sizes greater than or equal to the upper quartile value in the data set\n",
        "# Create a logical condition for this situation and store the logical values as \"con3\"\n",
        "# Calculate the upper quartile (Q3) of screen diagonal length\n",
        "upper_quartile = data['Scr_d'].quantile(0.75)\n",
        "\n",
        "# Create a logical condition for phones with screen sizes greater than or equal to the upper quartile\n",
        "con3 = data['Scr_d'] >= upper_quartile\n",
        "\n",
        "# Print the result\n",
        "print(con3)\n",
        "\n"
      ]
    },
    {
      "cell_type": "markdown",
      "source": [
        "Observations:\n",
        "\n",
        "The features \"Scr_h\" and \"Scr_w\" are respectively the height and the width of the phone screen.\n",
        "\n",
        "We created a new feature called \"Scr_d\" which is essentially the length of the screen diagonal.\n",
        "\n",
        "The upper quartile has been selected as a threshold in this case as the children were very particular on this point.\n",
        "\n",
        "In case it is too strict, we can choose the mean or the median as a threshold."
      ],
      "metadata": {
        "id": "BKDitmp9RZDe"
      }
    },
    {
      "cell_type": "markdown",
      "source": [
        "# Task 5 - Obtain the logical conditions for the features \"PC\" and \"FC\""
      ],
      "metadata": {
        "id": "21dZEsZRRikD"
      }
    },
    {
      "cell_type": "code",
      "execution_count": null,
      "metadata": {
        "id": "lCQR8DBRN86Y"
      },
      "outputs": [],
      "source": [
        "# Let's tackle these features: \"PC\", \"FC\""
      ]
    },
    {
      "cell_type": "code",
      "execution_count": 30,
      "metadata": {
        "id": "KtH-XWmqN86Z",
        "colab": {
          "base_uri": "https://localhost:8080/",
          "height": 472
        },
        "outputId": "d34d49d4-a508-4e8f-c106-a0b5f3025c03"
      },
      "outputs": [
        {
          "output_type": "display_data",
          "data": {
            "text/plain": [
              "<Figure size 640x480 with 1 Axes>"
            ],
            "image/png": "[encoded data removed]"
          },
          "metadata": {}
        }
      ],
      "source": [
        "# Create a histogram of the \"PC\" feature and also show the mean and the median\n",
        "\n",
        "\n",
        "# Create a histogram of the \"PC\" feature\n",
        "plt.hist(data['PC'])\n",
        "plt.xlabel('Primary Camera Megapixels')\n",
        "plt.ylabel('Frequency')\n",
        "plt.title('Distribution of Primary Camera Megapixels')\n",
        "\n",
        "# Calculate mean and median\n",
        "mean_pc = data['PC'].mean()\n",
        "median_pc = data['PC'].median()\n",
        "\n",
        "# Add vertical lines for mean and median\n",
        "plt.axvline(mean_pc, color='r', linestyle='dashed', linewidth=2, label='Mean')\n",
        "plt.axvline(median_pc, color='g', linestyle='dashed', linewidth=2, label='Median')\n",
        "\n",
        "# Display legend and plot\n",
        "plt.legend()\n",
        "plt.show()\n"
      ]
    },
    {
      "cell_type": "code",
      "execution_count": 31,
      "metadata": {
        "id": "vMp3OWR0N86a",
        "colab": {
          "base_uri": "https://localhost:8080/",
          "height": 472
        },
        "outputId": "d606a5a3-64ce-403a-c617-8bc3b4b4ebf2"
      },
      "outputs": [
        {
          "output_type": "display_data",
          "data": {
            "text/plain": [
              "<Figure size 640x480 with 1 Axes>"
            ],
            "image/png": "[encoded data removed]"
          },
          "metadata": {}
        }
      ],
      "source": [
        "# Create a histogram of the \"FC\" feature and also show the mean and the median\n",
        "\n",
        "\n",
        "# Create a histogram of the \"FC\" feature\n",
        "plt.hist(data['FC'])\n",
        "plt.xlabel('Front Camera Megapixels')\n",
        "plt.ylabel('Frequency')\n",
        "plt.title('Distribution of Front Camera Megapixels')\n",
        "\n",
        "# Calculate mean and median\n",
        "mean_fc = data['FC'].mean()\n",
        "median_fc = data['FC'].median()\n",
        "\n",
        "# Add vertical lines for mean and median\n",
        "plt.axvline(mean_fc, color='r', linestyle='dashed', linewidth=2, label='Mean')\n",
        "plt.axvline(median_fc, color='g', linestyle='dashed', linewidth=2, label='Median')\n",
        "\n",
        "# Display legend and plot\n",
        "plt.legend()\n",
        "plt.show()\n",
        "\n"
      ]
    },
    {
      "cell_type": "code",
      "execution_count": 32,
      "metadata": {
        "id": "uwOY8IGoN86a",
        "colab": {
          "base_uri": "https://localhost:8080/"
        },
        "outputId": "9730eccf-a8b3-46e8-cf10-88102ad161f2"
      },
      "outputs": [
        {
          "output_type": "stream",
          "name": "stdout",
          "text": [
            "0     False\n",
            "1     False\n",
            "2     False\n",
            "3     False\n",
            "4     False\n",
            "5     False\n",
            "6     False\n",
            "7     False\n",
            "8     False\n",
            "9      True\n",
            "10    False\n",
            "11     True\n",
            "12     True\n",
            "13    False\n",
            "14    False\n",
            "15    False\n",
            "16     True\n",
            "17    False\n",
            "18    False\n",
            "19    False\n",
            "20    False\n",
            "21     True\n",
            "22    False\n",
            "23    False\n",
            "24    False\n",
            "25     True\n",
            "26    False\n",
            "27    False\n",
            "28     True\n",
            "29    False\n",
            "30     True\n",
            "31    False\n",
            "32     True\n",
            "33     True\n",
            "34     True\n",
            "35    False\n",
            "36     True\n",
            "37     True\n",
            "38     True\n",
            "39    False\n",
            "40     True\n",
            "41    False\n",
            "42     True\n",
            "43    False\n",
            "44     True\n",
            "45     True\n",
            "46     True\n",
            "47     True\n",
            "48     True\n",
            "49     True\n",
            "dtype: bool\n"
          ]
        }
      ],
      "source": [
        "# The children want phones that have good primary and front camera resolutions\n",
        "# Consider the phones that have primary and front camera resolutions greater than or equal to their respective mean values\n",
        "# Create a logical condition for this situation and store the logical values as \"con4\"\n",
        "\n",
        "# Calculate the mean primary and front camera resolutions\n",
        "mean_pc = data['PC'].mean()\n",
        "mean_fc = data['FC'].mean()\n",
        "\n",
        "# Create a logical condition for phones with primary and front camera resolutions greater than or equal to their respective means\n",
        "con4 = (data['PC'] >= mean_pc) & (data['FC'] >= mean_fc)\n",
        "\n",
        "# Print the result\n",
        "print(con4)\n"
      ]
    },
    {
      "cell_type": "markdown",
      "source": [
        "Observations:\n",
        "\n",
        "The features \"PC\" and \"FC\" are respectively the resolutions of the primary camera and the front camera.\n",
        "\n",
        "The respective means have been selected as thresholds in this case.\n",
        "\n",
        "In case it is too strict, we can choose the respective medians as thresholds."
      ],
      "metadata": {
        "id": "jo7yqfJSRvNT"
      }
    },
    {
      "cell_type": "markdown",
      "source": [
        "# Task 6 - Obtain the logical conditions for the features \"Int_Mem\", \"Bty_Pwr\" and \"RAM\""
      ],
      "metadata": {
        "id": "iu0E_MTAR3Pn"
      }
    },
    {
      "cell_type": "code",
      "execution_count": null,
      "metadata": {
        "id": "tnBJk7xFN86d"
      },
      "outputs": [],
      "source": [
        "# Let's tackle these features: \"Int_Mem\", \"Bty_Pwr\", \"RAM\""
      ]
    },
    {
      "cell_type": "code",
      "execution_count": 33,
      "metadata": {
        "id": "YMBT6fVEN86e",
        "colab": {
          "base_uri": "https://localhost:8080/",
          "height": 472
        },
        "outputId": "161e3571-888e-4020-9253-b4318330b8e1"
      },
      "outputs": [
        {
          "output_type": "display_data",
          "data": {
            "text/plain": [
              "<Figure size 640x480 with 1 Axes>"
            ],
            "image/png": "[encoded data removed]"
          },
          "metadata": {}
        }
      ],
      "source": [
        "# Create a histogram of the \"Int_Mem\" feature and also show the mean and the median\n",
        "\n",
        "\n",
        "# Create a histogram of the \"Int_Mem\" feature\n",
        "plt.hist(data['Int_Mem'])\n",
        "plt.xlabel('Internal Memory (GB)')\n",
        "plt.ylabel('Frequency')\n",
        "plt.title('Distribution of Internal Memory')\n",
        "\n",
        "# Calculate mean and median\n",
        "mean_int_mem = data['Int_Mem'].mean()\n",
        "median_int_mem = data['Int_Mem'].median()\n",
        "\n",
        "# Add vertical lines for mean and median\n",
        "plt.axvline(mean_int_mem, color='r', linestyle='dashed', linewidth=2, label='Mean')\n",
        "plt.axvline(median_int_mem, color='g', linestyle='dashed', linewidth=2, label='Median')\n",
        "\n",
        "# Display legend and plot\n",
        "plt.legend()\n",
        "plt.show()\n"
      ]
    },
    {
      "cell_type": "code",
      "execution_count": 34,
      "metadata": {
        "id": "oPjFp16vN86e",
        "colab": {
          "base_uri": "https://localhost:8080/",
          "height": 472
        },
        "outputId": "ecea8407-2790-4a8c-e477-225fe07a59ae"
      },
      "outputs": [
        {
          "output_type": "display_data",
          "data": {
            "text/plain": [
              "<Figure size 640x480 with 1 Axes>"
            ],
            "image/png": "[encoded data removed]"
          },
          "metadata": {}
        }
      ],
      "source": [
        "# Create a histogram of the \"Bty_Pwr\" feature and also show the mean and the median\n",
        "\n",
        "\n",
        "# Create a histogram of the \"Bty_Pwr\" feature\n",
        "plt.hist(data['Bty_Pwr'])\n",
        "plt.xlabel('Battery Power (mAh)')\n",
        "plt.ylabel('Frequency')\n",
        "plt.title('Distribution of Battery Power')\n",
        "\n",
        "# Calculate mean and median\n",
        "mean_bty_pwr = data['Bty_Pwr'].mean()\n",
        "median_bty_pwr = data['Bty_Pwr'].median()\n",
        "\n",
        "# Add vertical lines for mean and median\n",
        "plt.axvline(mean_bty_pwr, color='r', linestyle='dashed', linewidth=2, label='Mean')\n",
        "plt.axvline(median_bty_pwr, color='g', linestyle='dashed', linewidth=2, label='Median')\n",
        "\n",
        "# Display legend and plot\n",
        "plt.legend()\n",
        "plt.show()\n"
      ]
    },
    {
      "cell_type": "code",
      "execution_count": 35,
      "metadata": {
        "id": "TS83YmlQN86f",
        "colab": {
          "base_uri": "https://localhost:8080/",
          "height": 472
        },
        "outputId": "34e239df-daab-4708-dedf-438e34a0d744"
      },
      "outputs": [
        {
          "output_type": "display_data",
          "data": {
            "text/plain": [
              "<Figure size 640x480 with 1 Axes>"
            ],
            "image/png": "[encoded data removed]"
          },
          "metadata": {}
        }
      ],
      "source": [
        "# Create a histogram of the \"RAM\" feature and also show the mean and the median\n",
        "\n",
        "\n",
        "\n",
        "# Create a histogram of the \"RAM\" feature\n",
        "plt.hist(data['RAM'])\n",
        "plt.xlabel('RAM (GB)')\n",
        "plt.ylabel('Frequency')\n",
        "plt.title('Distribution of RAM')\n",
        "\n",
        "# Calculate mean and median\n",
        "mean_ram = data['RAM'].mean()\n",
        "median_ram = data['RAM'].median()\n",
        "\n",
        "# Add vertical lines for mean and median\n",
        "plt.axvline(mean_ram, color='r', linestyle='dashed', linewidth=2, label='Mean')\n",
        "plt.axvline(median_ram, color='g', linestyle='dashed', linewidth=2, label='Median')\n",
        "\n",
        "# Display legend and plot\n",
        "plt.legend()\n",
        "plt.show()\n"
      ]
    },
    {
      "cell_type": "code",
      "execution_count": 36,
      "metadata": {
        "id": "Ty-VGMoDN86g",
        "colab": {
          "base_uri": "https://localhost:8080/"
        },
        "outputId": "a7eeb853-e64c-4d16-a67a-6793ba36ab38"
      },
      "outputs": [
        {
          "output_type": "stream",
          "name": "stdout",
          "text": [
            "0     False\n",
            "1     False\n",
            "2     False\n",
            "3     False\n",
            "4     False\n",
            "5     False\n",
            "6     False\n",
            "7     False\n",
            "8     False\n",
            "9     False\n",
            "10    False\n",
            "11    False\n",
            "12    False\n",
            "13    False\n",
            "14    False\n",
            "15    False\n",
            "16    False\n",
            "17    False\n",
            "18    False\n",
            "19    False\n",
            "20    False\n",
            "21    False\n",
            "22    False\n",
            "23    False\n",
            "24    False\n",
            "25    False\n",
            "26    False\n",
            "27    False\n",
            "28     True\n",
            "29     True\n",
            "30     True\n",
            "31    False\n",
            "32     True\n",
            "33    False\n",
            "34    False\n",
            "35    False\n",
            "36    False\n",
            "37    False\n",
            "38    False\n",
            "39    False\n",
            "40    False\n",
            "41    False\n",
            "42     True\n",
            "43    False\n",
            "44     True\n",
            "45    False\n",
            "46    False\n",
            "47     True\n",
            "48     True\n",
            "49     True\n",
            "dtype: bool\n"
          ]
        }
      ],
      "source": [
        "# The children want phones that have good internal memory, battery power and RAM\n",
        "# Consider the phones that have internal memory, battery power and RAM greater than or equal to their respective mean values\n",
        "# Create a logical condition for this situation and store the logical values as \"con5\"\n",
        "# Calculate the mean values for internal memory, battery power, and RAM\n",
        "mean_int_mem = data['Int_Mem'].mean()\n",
        "mean_bty_pwr = data['Bty_Pwr'].mean()\n",
        "mean_ram = data['RAM'].mean()\n",
        "\n",
        "# Create a logical condition for phones meeting the criteria\n",
        "con5 = (data['Int_Mem'] >= mean_int_mem) & (data['Bty_Pwr'] >= mean_bty_pwr) & (data['RAM'] >= mean_ram)\n",
        "\n",
        "# Print the result\n",
        "print(con5)\n",
        "\n"
      ]
    },
    {
      "cell_type": "markdown",
      "source": [
        "Observations\n",
        "\n",
        "The features \"Int_Mem\", \"Bty_Pwr\" and \"RAM\" are respectively the internal memory, battery power and RAM of the phones.\n",
        "\n",
        "The respective means have been selected as thresholds in this case.\n",
        "\n",
        ".In case it is too strict, we can choose the respective medians as thresholds"
      ],
      "metadata": {
        "id": "u5RzvXKoSHaw"
      }
    },
    {
      "cell_type": "markdown",
      "source": [
        "# Task 7 - Obtain the logical conditions for the features \"Depth\" and \"Weight\""
      ],
      "metadata": {
        "id": "VVeYghyESO9y"
      }
    },
    {
      "cell_type": "code",
      "execution_count": null,
      "metadata": {
        "id": "07nm7-V1N86j"
      },
      "outputs": [],
      "source": [
        "# Let's tackle these features: \"Depth\", \"Weight\""
      ]
    },
    {
      "cell_type": "code",
      "execution_count": 37,
      "metadata": {
        "id": "e88FFbusN86k",
        "colab": {
          "base_uri": "https://localhost:8080/",
          "height": 472
        },
        "outputId": "80cc8b91-7168-41a8-8476-d63cb38e3106"
      },
      "outputs": [
        {
          "output_type": "display_data",
          "data": {
            "text/plain": [
              "<Figure size 640x480 with 1 Axes>"
            ],
            "image/png": "[encoded data removed]"
          },
          "metadata": {}
        }
      ],
      "source": [
        "# Create a histogram of the \"Depth\" feature and also show the mean and the median\n",
        "\n",
        "\n",
        "\n",
        "# Create a histogram of the \"Depth\" feature\n",
        "plt.hist(data['Depth'])\n",
        "plt.xlabel('Depth (cm)')\n",
        "plt.ylabel('Frequency')\n",
        "plt.title('Distribution of Phone Depth')\n",
        "\n",
        "# Calculate mean and median\n",
        "mean_depth = data['Depth'].mean()\n",
        "median_depth = data['Depth'].median()\n",
        "\n",
        "# Add vertical lines for mean and median\n",
        "plt.axvline(mean_depth, color='r', linestyle='dashed', linewidth=2, label='Mean')\n",
        "plt.axvline(median_depth, color='g', linestyle='dashed', linewidth=2, label='Median')\n",
        "\n",
        "# Display legend and plot\n",
        "plt.legend()\n",
        "plt.show()\n"
      ]
    },
    {
      "cell_type": "code",
      "execution_count": 38,
      "metadata": {
        "id": "-lXTqLttN86l",
        "colab": {
          "base_uri": "https://localhost:8080/",
          "height": 472
        },
        "outputId": "fa8c1586-c68e-44ac-c59f-a3bb682cca03"
      },
      "outputs": [
        {
          "output_type": "display_data",
          "data": {
            "text/plain": [
              "<Figure size 640x480 with 1 Axes>"
            ],
            "image/png": "[encoded data removed]"
          },
          "metadata": {}
        }
      ],
      "source": [
        "# Create a histogram of the \"Weight\" feature and also show the mean and the median\n",
        "\n",
        "\n",
        "# Create a histogram of the \"Weight\" feature\n",
        "plt.hist(data['Weight'])\n",
        "plt.xlabel('Weight (grams)')\n",
        "plt.ylabel('Frequency')\n",
        "plt.title('Distribution of Phone Weight')\n",
        "\n",
        "# Calculate mean and median\n",
        "mean_weight = data['Weight'].mean()\n",
        "median_weight = data['Weight'].median()\n",
        "\n",
        "# Add vertical lines for mean and median\n",
        "plt.axvline(mean_weight, color='r', linestyle='dashed', linewidth=2, label='Mean')\n",
        "plt.axvline(median_weight, color='g', linestyle='dashed', linewidth=2, label='Median')\n",
        "\n",
        "# Display legend and plot\n",
        "plt.legend()\n",
        "plt.show()\n",
        "\n"
      ]
    },
    {
      "cell_type": "code",
      "execution_count": 39,
      "metadata": {
        "id": "7ZYJmwzJN86l",
        "colab": {
          "base_uri": "https://localhost:8080/"
        },
        "outputId": "72ed0fee-5350-4f91-9205-5523914bda5e"
      },
      "outputs": [
        {
          "output_type": "stream",
          "name": "stdout",
          "text": [
            "0     False\n",
            "1     False\n",
            "2     False\n",
            "3     False\n",
            "4     False\n",
            "5     False\n",
            "6      True\n",
            "7      True\n",
            "8      True\n",
            "9      True\n",
            "10    False\n",
            "11    False\n",
            "12    False\n",
            "13    False\n",
            "14    False\n",
            "15    False\n",
            "16     True\n",
            "17    False\n",
            "18    False\n",
            "19    False\n",
            "20     True\n",
            "21     True\n",
            "22     True\n",
            "23     True\n",
            "24     True\n",
            "25    False\n",
            "26    False\n",
            "27    False\n",
            "28    False\n",
            "29    False\n",
            "30     True\n",
            "31     True\n",
            "32     True\n",
            "33     True\n",
            "34    False\n",
            "35    False\n",
            "36    False\n",
            "37    False\n",
            "38    False\n",
            "39    False\n",
            "40    False\n",
            "41     True\n",
            "42     True\n",
            "43    False\n",
            "44    False\n",
            "45    False\n",
            "46    False\n",
            "47     True\n",
            "48     True\n",
            "49     True\n",
            "dtype: bool\n"
          ]
        }
      ],
      "source": [
        "# The children want phones that are light weight and slim\n",
        "# Consider the phones that have depth and weight less than or equal to the respective median values in the data set\n",
        "# Create a logical condition for this situation and store the logical values as \"con6\"\n",
        "# Calculate the median depth and weight\n",
        "median_depth = data['Depth'].median()\n",
        "median_weight = data['Weight'].median()\n",
        "\n",
        "# Create a logical condition for phones meeting the criteria\n",
        "con6 = (data['Depth'] <= median_depth) & (data['Weight'] <= median_weight)\n",
        "\n",
        "# Print the result\n",
        "print(con6)\n",
        "\n"
      ]
    },
    {
      "cell_type": "markdown",
      "source": [
        "Observations:\n",
        "\n",
        "The features \"Depth\" and \"Weight\" are respectively the depth of the phone and the weight of the phone.\n",
        "\n",
        "The respective medians have been selected as thresholds in this case.\n",
        "\n",
        "In case it is too strict, we can choose the respective means as thresholds."
      ],
      "metadata": {
        "id": "l32BIHsdSbHy"
      }
    },
    {
      "cell_type": "markdown",
      "source": [
        "# Task 8 - Subset the data based on all the logical conditions"
      ],
      "metadata": {
        "id": "3UYMHQseSjZp"
      }
    },
    {
      "cell_type": "code",
      "execution_count": 41,
      "metadata": {
        "id": "iKFweH2xN86o",
        "colab": {
          "base_uri": "https://localhost:8080/"
        },
        "outputId": "aa5c90a7-f40b-4fcf-c33a-e6c3f2f21284"
      },
      "outputs": [
        {
          "output_type": "stream",
          "name": "stdout",
          "text": [
            "        PID Blue Wi_Fi Tch_Scr Ext_Mem  Px_h  Px_w  Scr_h  Scr_w  PC  FC  \\\n",
            "30  TVF078Y  yes   yes     yes     yes  2580  2120      8      6  64  32   \n",
            "32  TYS938L  yes   yes     yes     yes  2580  2120      8      6  64  32   \n",
            "\n",
            "    Int_Mem  Bty_Pwr  RAM  Depth  Weight  Price       Scr_d  \n",
            "30      512     4860    8      3      90  29999  3339.28136  \n",
            "32     1024     4860    8      3     120  46777  3339.28136  \n"
          ]
        }
      ],
      "source": [
        "# Subset the dataframe using all the logical conditions that have been stored\n",
        "# Store the subset of the dataframe as a new dataframe called \"df1\"\n",
        "df1 = data[con1 & con_2 & con3 & con4 & con5 & con6]\n",
        "\n",
        "# Print the resulting subset dataframe\n",
        "print(df1)\n",
        "\n",
        "\n"
      ]
    },
    {
      "cell_type": "code",
      "execution_count": 42,
      "metadata": {
        "id": "Y0Bp7BKkN86o",
        "colab": {
          "base_uri": "https://localhost:8080/"
        },
        "outputId": "db7c44f2-6d48-4c94-a75e-ce0f8c490a45"
      },
      "outputs": [
        {
          "output_type": "execute_result",
          "data": {
            "text/plain": [
              "(2, 18)"
            ]
          },
          "metadata": {},
          "execution_count": 42
        }
      ],
      "source": [
        "# Get the dimensions of the dataframe\n",
        "df1.shape\n"
      ]
    },
    {
      "cell_type": "code",
      "execution_count": 43,
      "metadata": {
        "id": "H5tg2OEkN86p",
        "colab": {
          "base_uri": "https://localhost:8080/"
        },
        "outputId": "f65b2c6e-4567-4816-d2d8-18e7c1f5a684"
      },
      "outputs": [
        {
          "output_type": "stream",
          "name": "stdout",
          "text": [
            "        PID Blue Wi_Fi Tch_Scr Ext_Mem  Px_h  Px_w  Scr_h  Scr_w  PC  FC  \\\n",
            "30  TVF078Y  yes   yes     yes     yes  2580  2120      8      6  64  32   \n",
            "32  TYS938L  yes   yes     yes     yes  2580  2120      8      6  64  32   \n",
            "\n",
            "    Int_Mem  Bty_Pwr  RAM  Depth  Weight  Price       Scr_d  \n",
            "30      512     4860    8      3      90  29999  3339.28136  \n",
            "32     1024     4860    8      3     120  46777  3339.28136  \n"
          ]
        }
      ],
      "source": [
        "# Sort the dataframe according to the \"Price\" feature in ascending order and display it\n",
        "df1_sorted = df1.sort_values('Price')\n",
        "\n",
        "# Display the sorted dataframe\n",
        "print(df1_sorted)\n"
      ]
    },
    {
      "cell_type": "markdown",
      "source": [
        "Observations:\n",
        "\n",
        "Based on all the logical conditions obtained through analysis of the features, we are left with three phones.\n",
        "\n",
        "The most expensive of these phones is the \"TYS938L\" model and the least expensive is the \"TVF078Y\" model.\n",
        "\n",
        "We could let the children choose from these three phones as per their preferences."
      ],
      "metadata": {
        "id": "Zn6iT-HQSocg"
      }
    },
    {
      "cell_type": "markdown",
      "source": [
        "# Task 9 - Study the variability of the features in the original data set"
      ],
      "metadata": {
        "id": "O09ZVXlbSvhj"
      }
    },
    {
      "cell_type": "code",
      "execution_count": 44,
      "metadata": {
        "id": "grfzKBDyN86r",
        "colab": {
          "base_uri": "https://localhost:8080/"
        },
        "outputId": "0307c7c0-28fd-4023-b22d-d9900a1bbf1c"
      },
      "outputs": [
        {
          "output_type": "stream",
          "name": "stdout",
          "text": [
            "Px_h       0.257998\n",
            "Px_w       0.256226\n",
            "Scr_h      0.314293\n",
            "Scr_w      0.407624\n",
            "PC         0.715716\n",
            "FC         0.712184\n",
            "Int_Mem    1.506514\n",
            "Bty_Pwr    0.256368\n",
            "RAM        0.479075\n",
            "Depth      0.306072\n",
            "Weight     0.388121\n",
            "Price      0.740868\n",
            "Scr_d      0.254742\n",
            "dtype: float64\n"
          ]
        }
      ],
      "source": [
        "# Calculate the ratio of the standard deviation to the mean for all the numerical features in the dataframe\n",
        "# Store these values in a new series wherein the rows are the features and the only column is the calculated ratio\n",
        "# Name the series as \"deviations\"\n",
        "\n",
        "deviations = data.select_dtypes(include=['number']).std() / data.select_dtypes(include=['number']).mean()\n",
        "\n",
        "# Print the resulting series\n",
        "print(deviations)\n"
      ]
    },
    {
      "cell_type": "code",
      "execution_count": 45,
      "metadata": {
        "id": "sBRqrnVaN86s",
        "colab": {
          "base_uri": "https://localhost:8080/"
        },
        "outputId": "d283b532-06be-404e-8a5c-503a566bc918"
      },
      "outputs": [
        {
          "output_type": "stream",
          "name": "stdout",
          "text": [
            "Int_Mem    1.506514\n",
            "Price      0.740868\n",
            "PC         0.715716\n",
            "FC         0.712184\n",
            "RAM        0.479075\n",
            "Scr_w      0.407624\n",
            "Weight     0.388121\n",
            "Scr_h      0.314293\n",
            "Depth      0.306072\n",
            "Px_h       0.257998\n",
            "Bty_Pwr    0.256368\n",
            "Px_w       0.256226\n",
            "Scr_d      0.254742\n",
            "dtype: float64\n"
          ]
        }
      ],
      "source": [
        "# View the \"deviations\" series after sorting it in descending order\n",
        "sorted_deviations = deviations.sort_values(ascending=False)\n",
        "\n",
        "# Display the sorted series\n",
        "print(sorted_deviations)\n"
      ]
    },
    {
      "cell_type": "markdown",
      "source": [
        "Observations:\n",
        "\n",
        "The ratio of the standard deviation to the mean of a feature normalises it in a way.\n",
        "\n",
        "This allows for comparison between multiple features.\n",
        "\n",
        "The most variable feature in the original data set is the internal memory of the phones.\n",
        "\n",
        "The least variable feature in the original data set is the number of screen pixels in the horizontal axis.\n",
        "\n",
        "Although most features don't seem so variable, the prices of the phones are quite variable.\n",
        "\n",
        "Feel free to investigate what could be the cause of this difference in variability.\n",
        "\n",
        "Note: We encourage you to extend this analysis further and see what else you can find.\n",
        "\n",
        "Note: Please refer to the official website of Python and its libraries for various Python documentations."
      ],
      "metadata": {
        "id": "RSypqWHuSzJU"
      }
    },
    {
      "cell_type": "markdown",
      "source": [
        "# Conclusion\n",
        "1. We have used concepts of descriptive statistics to study and work with a data set that contains mobile phone specifications.\n",
        "\n",
        "2. We were able to recommend three phone models to the client which she can then propose to her children."
      ],
      "metadata": {
        "id": "kE4_U-R9TI_d"
      }
    },
    {
      "cell_type": "code",
      "source": [],
      "metadata": {
        "id": "8TQnykmJhK6w"
      },
      "execution_count": null,
      "outputs": []
    }
  ],
  "metadata": {
    "colab": {
      "provenance": [],
      "include_colab_link": true
    },
    "kernelspec": {
      "display_name": "Python 3",
      "language": "python",
      "name": "python3"
    },
    "language_info": {
      "codemirror_mode": {
        "name": "ipython",
        "version": 3
      },
      "file_extension": ".py",
      "mimetype": "text/x-python",
      "name": "python",
      "nbconvert_exporter": "python",
      "pygments_lexer": "ipython3",
      "version": "3.8.8"
    }
  },
  "nbformat": 4,
  "nbformat_minor": 0
}